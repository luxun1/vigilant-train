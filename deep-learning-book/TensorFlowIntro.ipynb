{
 "cells": [
  {
   "cell_type": "code",
   "execution_count": 1,
   "metadata": {},
   "outputs": [],
   "source": [
    "import tensorflow as tf"
   ]
  },
  {
   "cell_type": "code",
   "execution_count": 2,
   "metadata": {},
   "outputs": [
    {
     "data": {
      "text/plain": [
       "<tensorflow.python.client.session.InteractiveSession at 0x10d337080>"
      ]
     },
     "execution_count": 2,
     "metadata": {},
     "output_type": "execute_result"
    }
   ],
   "source": [
    "tf.InteractiveSession()"
   ]
  },
  {
   "cell_type": "code",
   "execution_count": 11,
   "metadata": {},
   "outputs": [
    {
     "data": {
      "text/plain": [
       "<tf.Tensor 'zeros_2:0' shape=(2,) dtype=float32>"
      ]
     },
     "execution_count": 11,
     "metadata": {},
     "output_type": "execute_result"
    }
   ],
   "source": [
    "#  2 by 2 tensor filled with zeros\n",
    "tf.zeros(2)"
   ]
  },
  {
   "cell_type": "code",
   "execution_count": 14,
   "metadata": {},
   "outputs": [
    {
     "data": {
      "text/plain": [
       "array([ 0.,  0.], dtype=float32)"
      ]
     },
     "execution_count": 14,
     "metadata": {},
     "output_type": "execute_result"
    }
   ],
   "source": [
    "# t.zeros returns ref to 2 by 2 tensor, eval returns values in numpy array\n",
    "tf.zeros(2).eval()"
   ]
  },
  {
   "cell_type": "code",
   "execution_count": 12,
   "metadata": {},
   "outputs": [
    {
     "data": {
      "text/plain": [
       "<tf.Tensor 'ones_3:0' shape=(2,) dtype=float32>"
      ]
     },
     "execution_count": 12,
     "metadata": {},
     "output_type": "execute_result"
    }
   ],
   "source": [
    "# 2 by 2 tensor filled with ones\n",
    "tf.ones(2)"
   ]
  },
  {
   "cell_type": "code",
   "execution_count": 13,
   "metadata": {},
   "outputs": [
    {
     "data": {
      "text/plain": [
       "array([[ 0.5,  0.5,  0.5,  0.5,  0.5],\n",
       "       [ 0.5,  0.5,  0.5,  0.5,  0.5]], dtype=float32)"
      ]
     },
     "execution_count": 13,
     "metadata": {},
     "output_type": "execute_result"
    }
   ],
   "source": [
    "# Fill 2 by 5 tensor with .5\n",
    "tf.fill((2,5),.5).eval()"
   ]
  },
  {
   "cell_type": "code",
   "execution_count": 16,
   "metadata": {},
   "outputs": [
    {
     "data": {
      "text/plain": [
       "2"
      ]
     },
     "execution_count": 16,
     "metadata": {},
     "output_type": "execute_result"
    }
   ],
   "source": [
    "# this will remain constant in program execution\n",
    "a = tf.constant(2)\n",
    "a.eval()"
   ]
  },
  {
   "cell_type": "code",
   "execution_count": 21,
   "metadata": {},
   "outputs": [
    {
     "data": {
      "text/plain": [
       "array([[ 1.04067445,  1.13036394,  0.83581066, ...,  1.00158787,\n",
       "         1.04807329,  1.11631727],\n",
       "       [ 1.1499933 ,  1.09391892,  1.05183697, ...,  0.90872943,\n",
       "         1.05934024,  0.87055463],\n",
       "       [ 1.01508963,  0.97466826,  1.03311729, ...,  1.00153935,\n",
       "         0.85718715,  1.16791773],\n",
       "       ..., \n",
       "       [ 0.96861416,  1.0544672 ,  0.92774355, ...,  0.98630106,\n",
       "         0.96103626,  1.01791537],\n",
       "       [ 1.0284704 ,  0.9701553 ,  0.92653161, ...,  0.84988004,\n",
       "         1.07932711,  0.97326726],\n",
       "       [ 1.06809735,  0.98144335,  1.10097921, ...,  1.07472765,\n",
       "         1.04167807,  1.01967156]], dtype=float32)"
      ]
     },
     "execution_count": 21,
     "metadata": {},
     "output_type": "execute_result"
    }
   ],
   "source": [
    "# random initialization\n",
    "tf.random_normal([2,2], mean=1, stddev=.1).eval()"
   ]
  },
  {
   "cell_type": "code",
   "execution_count": 22,
   "metadata": {},
   "outputs": [
    {
     "data": {
      "text/plain": [
       "array([[ 1.07196844,  1.04652119,  1.09952724, ...,  0.85826182,\n",
       "         0.96650171,  1.19188964],\n",
       "       [ 0.83888865,  1.00935924,  0.987059  , ...,  1.08838677,\n",
       "         0.87944961,  0.86754155],\n",
       "       [ 0.95023119,  0.90048409,  0.98104817, ...,  1.0950557 ,\n",
       "         1.02621651,  1.17175376],\n",
       "       ..., \n",
       "       [ 0.80624425,  1.11394262,  0.89505762, ...,  1.08744872,\n",
       "         1.01545227,  0.8990075 ],\n",
       "       [ 1.05222201,  0.99002153,  0.98323321, ...,  1.11792016,\n",
       "         0.86173791,  1.05400038],\n",
       "       [ 0.97134161,  1.18595338,  0.86576891, ...,  0.97257715,\n",
       "         1.06017005,  0.91200233]], dtype=float32)"
      ]
     },
     "execution_count": 22,
     "metadata": {},
     "output_type": "execute_result"
    }
   ],
   "source": [
    "# machine learning systems often use 10s of millions of draws from the normal distribution - common to truncate so that values more than 2`std from mean are dropped - prevents numerical instability\n",
    "tf.truncated_normal([50,50], mean=1, stddev=.1).eval()"
   ]
  },
  {
   "cell_type": "code",
   "execution_count": 25,
   "metadata": {},
   "outputs": [
    {
     "data": {
      "text/plain": [
       "array([[ 0.24846637,  0.93894482,  0.23314178],\n",
       "       [ 0.43553889,  0.84314048,  0.11421597]], dtype=float32)"
      ]
     },
     "execution_count": 25,
     "metadata": {},
     "output_type": "execute_result"
    }
   ],
   "source": [
    "# other distributions\n",
    "tf.random_uniform([2,3]).eval()"
   ]
  },
  {
   "cell_type": "code",
   "execution_count": 30,
   "metadata": {},
   "outputs": [
    {
     "name": "stdout",
     "output_type": "stream",
     "text": [
      "[[ 2.  2.]\n",
      " [ 2.  2.]]\n",
      "[[ 0.5  0.5]\n",
      " [ 0.5  0.5]]\n",
      "[[ 1.  1.]\n",
      " [ 1.  1.]]\n"
     ]
    }
   ],
   "source": [
    "# basic operations\n",
    "c = tf.ones((2,2))\n",
    "d = tf.ones((2,2))\n",
    "print((c+d).eval())\n",
    "\n",
    "# elementwise, not matrix multiplication\n",
    "e = tf.fill((2,2),.5)\n",
    "print((c*e).eval())\n",
    "\n",
    "print ((2*e).eval())"
   ]
  },
  {
   "cell_type": "code",
   "execution_count": 32,
   "metadata": {},
   "outputs": [
    {
     "name": "stdout",
     "output_type": "stream",
     "text": [
      "[[ 1.  0.]\n",
      " [ 0.  1.]]\n",
      "[1 2 3 4]\n",
      "[[1 0 0 0]\n",
      " [0 2 0 0]\n",
      " [0 0 3 0]\n",
      " [0 0 0 4]]\n"
     ]
    }
   ],
   "source": [
    "# matrix operations\n",
    "print(tf.eye(2,2).eval())\n",
    "\n",
    "\n",
    "# diagonal matrix\n",
    "r = tf.range(1,5,1)\n",
    "print(r.eval())\n",
    "d=tf.diag(r)\n",
    "print(d.eval())"
   ]
  },
  {
   "cell_type": "code",
   "execution_count": 35,
   "metadata": {},
   "outputs": [
    {
     "name": "stdout",
     "output_type": "stream",
     "text": [
      "[[ 1.  1.  1.]\n",
      " [ 1.  1.  1.]]\n",
      "[[ 1.  1.]\n",
      " [ 1.  1.]\n",
      " [ 1.  1.]]\n"
     ]
    }
   ],
   "source": [
    "# transpose\n",
    "a = tf.ones((2,3))\n",
    "print(a.eval())\n",
    "at = tf.matrix_transpose(a)\n",
    "print(at.eval())"
   ]
  },
  {
   "cell_type": "code",
   "execution_count": 36,
   "metadata": {},
   "outputs": [
    {
     "name": "stdout",
     "output_type": "stream",
     "text": [
      "[[ 1.  1.  1.]\n",
      " [ 1.  1.  1.]]\n",
      "[[ 1.  1.  1.  1.]\n",
      " [ 1.  1.  1.  1.]\n",
      " [ 1.  1.  1.  1.]]\n",
      "[[ 3.  3.  3.  3.]\n",
      " [ 3.  3.  3.  3.]]\n"
     ]
    }
   ],
   "source": [
    "# matrix multiplication\n",
    "a = tf.ones((2,3))\n",
    "print(a.eval())\n",
    "b=tf.ones((3,4))\n",
    "print(b.eval())\n",
    "c = tf.matmul(a,b)\n",
    "print(c.eval())"
   ]
  },
  {
   "cell_type": "code",
   "execution_count": 37,
   "metadata": {},
   "outputs": [
    {
     "name": "stdout",
     "output_type": "stream",
     "text": [
      "Tensor(\"MatMul:0\", shape=(2, 4), dtype=float32)\n",
      "Tensor(\"ToDouble:0\", shape=(2, 4), dtype=float64)\n",
      "Tensor(\"ToInt32:0\", shape=(2, 4), dtype=int32)\n",
      "Tensor(\"ToInt64:0\", shape=(2, 4), dtype=int64)\n"
     ]
    }
   ],
   "source": [
    "# type conversions\n",
    "print(tf.to_float(c))\n",
    "print(tf.to_double(c))\n",
    "print(tf.to_int32(c))\n",
    "print(tf.to_int64(c))"
   ]
  },
  {
   "cell_type": "code",
   "execution_count": 40,
   "metadata": {},
   "outputs": [
    {
     "name": "stdout",
     "output_type": "stream",
     "text": [
      "[ 1.  1.  1.  1.  1.  1.  1.  1.]\n",
      "(8,)\n",
      "[[ 1.  1.]\n",
      " [ 1.  1.]\n",
      " [ 1.  1.]\n",
      " [ 1.  1.]]\n",
      "(4, 2)\n",
      "[[[ 1.  1.]\n",
      "  [ 1.  1.]]\n",
      "\n",
      " [[ 1.  1.]\n",
      "  [ 1.  1.]]]\n",
      "(2, 2, 2)\n"
     ]
    }
   ],
   "source": [
    "# shape manipulation - can move between rank-1, rank-2, rank-3 tensors easily\n",
    "a = tf.ones(8)\n",
    "print(a.eval())\n",
    "print(a.get_shape())\n",
    "b = tf.reshape(a, (4,2))\n",
    "print(b.eval())\n",
    "print(b.get_shape())\n",
    "c=tf.reshape(a, (2,2,2))\n",
    "print(c.eval())\n",
    "print(c.get_shape())\n",
    "\n",
    "# tf.squeeze removes all dimensions of size 1\n",
    "# tf.expand_dims adds an extra dimension"
   ]
  },
  {
   "cell_type": "code",
   "execution_count": null,
   "metadata": {},
   "outputs": [],
   "source": []
  }
 ],
 "metadata": {
  "kernelspec": {
   "display_name": "Python 3",
   "language": "python",
   "name": "python3"
  },
  "language_info": {
   "codemirror_mode": {
    "name": "ipython",
    "version": 3
   },
   "file_extension": ".py",
   "mimetype": "text/x-python",
   "name": "python",
   "nbconvert_exporter": "python",
   "pygments_lexer": "ipython3",
   "version": "3.6.3"
  }
 },
 "nbformat": 4,
 "nbformat_minor": 2
}
